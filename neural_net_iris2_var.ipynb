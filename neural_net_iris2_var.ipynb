{
  "cells": [
    {
      "cell_type": "markdown",
      "metadata": {
        "id": "view-in-github",
        "colab_type": "text"
      },
      "source": [
        "<a href=\"https://colab.research.google.com/github/4lfr3doh/FirstOne/blob/main/neural_net_iris2_var.ipynb\" target=\"_parent\"><img src=\"https://colab.research.google.com/assets/colab-badge.svg\" alt=\"Open In Colab\"/></a>"
      ]
    },
    {
      "cell_type": "markdown",
      "metadata": {
        "id": "MLCWgMggsjvt"
      },
      "source": [
        "<h1> Neural Network custom implementation <h1/>"
      ]
    },
    {
      "cell_type": "markdown",
      "metadata": {
        "id": "mdDu_YCmsp_J"
      },
      "source": [
        "In this exercise you should complete the implementation of a multi-layer-perceptron."
      ]
    },
    {
      "cell_type": "markdown",
      "metadata": {
        "id": "e9ehlDhtsxha"
      },
      "source": [
        "1) Imports"
      ]
    },
    {
      "cell_type": "code",
      "execution_count": 8,
      "metadata": {
        "ExecuteTime": {
          "end_time": "2024-03-07T14:22:31.144696900Z",
          "start_time": "2024-03-07T14:22:31.116700400Z"
        },
        "id": "hjH2aYNuszQ3"
      },
      "outputs": [],
      "source": [
        "import numpy as np\n",
        "from matplotlib import pyplot as plt\n",
        "from sklearn.metrics import log_loss\n",
        "from sklearn.model_selection import train_test_split\n",
        "from sklearn import datasets"
      ]
    },
    {
      "cell_type": "markdown",
      "metadata": {
        "collapsed": false,
        "jupyter": {
          "outputs_hidden": false
        },
        "id": "friWtJjkJwup"
      },
      "source": []
    },
    {
      "cell_type": "markdown",
      "metadata": {
        "id": "N6Pk9vgwI9oL"
      },
      "source": [
        "2) Import dataset <br/>\n",
        "> 2.1) Import IRIS dataset from sklearn\n",
        "\n"
      ]
    },
    {
      "cell_type": "code",
      "execution_count": 9,
      "metadata": {
        "ExecuteTime": {
          "end_time": "2024-03-07T14:22:31.159795Z",
          "start_time": "2024-03-07T14:22:31.149411400Z"
        },
        "id": "OQYuzwdBI9EC"
      },
      "outputs": [],
      "source": [
        "# load iris dataset\n",
        "iris = datasets.load_iris()\n",
        "\n",
        "### your solution\n",
        "\n",
        "iris_x_train = iris['data']\n",
        "iris_y_train = iris['target']\n",
        "\n",
        "\n",
        "###"
      ]
    },
    {
      "cell_type": "markdown",
      "metadata": {
        "id": "CjXWWHIJORDa"
      },
      "source": [
        "3) Encoder / Decoder <br>\n",
        "> 3.1) Encoder function <br>\n",
        "> 3.2) Decoder function"
      ]
    },
    {
      "cell_type": "code",
      "execution_count": 11,
      "metadata": {
        "ExecuteTime": {
          "end_time": "2024-03-07T14:22:31.172939100Z",
          "start_time": "2024-03-07T14:22:31.164794700Z"
        },
        "jupyter": {
          "outputs_hidden": false
        },
        "colab": {
          "base_uri": "https://localhost:8080/",
          "height": 219
        },
        "id": "h-U4ON6fJwup",
        "outputId": "afc785c7-7e6a-48ba-c519-ff7a24bdd8c9"
      },
      "outputs": [
        {
          "output_type": "error",
          "ename": "NameError",
          "evalue": "name 'encoded_y' is not defined",
          "traceback": [
            "\u001b[0;31m---------------------------------------------------------------------------\u001b[0m",
            "\u001b[0;31mNameError\u001b[0m                                 Traceback (most recent call last)",
            "\u001b[0;32m<ipython-input-11-e7a665bc3183>\u001b[0m in \u001b[0;36m<cell line: 28>\u001b[0;34m()\u001b[0m\n\u001b[1;32m     26\u001b[0m \u001b[0;34m\u001b[0m\u001b[0m\n\u001b[1;32m     27\u001b[0m \u001b[0mencoded_y_train\u001b[0m \u001b[0;34m=\u001b[0m \u001b[0;34m(\u001b[0m\u001b[0mencode\u001b[0m\u001b[0;34m(\u001b[0m\u001b[0miris_y_train\u001b[0m\u001b[0;34m)\u001b[0m\u001b[0;34m)\u001b[0m\u001b[0;34m\u001b[0m\u001b[0;34m\u001b[0m\u001b[0m\n\u001b[0;32m---> 28\u001b[0;31m \u001b[0mprint\u001b[0m \u001b[0;34m(\u001b[0m\u001b[0mencoded_y\u001b[0m\u001b[0;34m)\u001b[0m\u001b[0;34m\u001b[0m\u001b[0;34m\u001b[0m\u001b[0m\n\u001b[0m\u001b[1;32m     29\u001b[0m \u001b[0;34m\u001b[0m\u001b[0m\n\u001b[1;32m     30\u001b[0m \u001b[0miris_x_train\u001b[0m \u001b[0;34m=\u001b[0m \u001b[0mnp\u001b[0m\u001b[0;34m.\u001b[0m\u001b[0marray\u001b[0m\u001b[0;34m(\u001b[0m\u001b[0miris_x_train\u001b[0m\u001b[0;34m)\u001b[0m\u001b[0;34m\u001b[0m\u001b[0;34m\u001b[0m\u001b[0m\n",
            "\u001b[0;31mNameError\u001b[0m: name 'encoded_y' is not defined"
          ]
        }
      ],
      "source": [
        "def encode(y):\n",
        "    ### your solution\n",
        "\n",
        "    iris_y_train_encode =[]\n",
        "\n",
        "    for i in range(len(y)):\n",
        "        if y[i] == 2:\n",
        "            iris_y_train_encode.append([0, 0, 1])\n",
        "        elif  y[i] == 1:\n",
        "            iris_y_train_encode.append([0, 1, 0])\n",
        "        else:\n",
        "            iris_y_train_encode.append([1, 0, 0])\n",
        "    ###\n",
        "    return np.array(iris_y_train_encode)\n",
        "\n",
        "\n",
        "def decode(y):\n",
        "    ### your solution\n",
        "\n",
        "    iris_y_train_decode = []\n",
        "\n",
        "    for i in range(len(y)):\n",
        "        iris_y_train_decode.append(y[i].index(1))\n",
        "    return iris_y_train_decode\n",
        "\n",
        "\n",
        "encoded_y_train = (encode(iris_y_train))\n",
        "print (encoded_y)\n",
        "\n",
        "iris_x_train = np.array(iris_x_train)\n",
        "\n",
        "#decoded_y_train = decode(encoded_y)\n",
        "#print(decoded_y)"
      ]
    },
    {
      "cell_type": "code",
      "source": [],
      "metadata": {
        "id": "InJccFv4Moqp"
      },
      "execution_count": null,
      "outputs": []
    },
    {
      "cell_type": "code",
      "execution_count": null,
      "metadata": {
        "ExecuteTime": {
          "end_time": "2024-03-07T14:22:31.190314600Z",
          "start_time": "2024-03-07T14:22:31.171206300Z"
        },
        "id": "G8gwLte3NCFV"
      },
      "outputs": [],
      "source": [
        "### traine-test train_test_split\n",
        "\n",
        "\n",
        "x_train, x_test, y_train, y_test = train_test_split(iris_x_train[:, 0:4], encoded_y_train, train_size=0.8)\n",
        "\n",
        "### alle 4 spalten einfügen in\n",
        "\n",
        "print(f\"x_train shape: {x_train.shape}\")\n",
        "print(f\"y_train shape: {y_train.shape}\")\n",
        "print(x_train)\n",
        "print(y_train)\n",
        "\n"
      ]
    },
    {
      "cell_type": "markdown",
      "metadata": {
        "id": "VlqVTtb-1BwE"
      },
      "source": [
        "4) Activation function <br/>\n",
        "> 4.1) Derivative of activation function"
      ]
    },
    {
      "cell_type": "code",
      "execution_count": null,
      "metadata": {
        "ExecuteTime": {
          "end_time": "2024-03-07T14:22:31.190314600Z",
          "start_time": "2024-03-07T14:22:31.183476700Z"
        },
        "id": "wmnTuqDR0_MQ"
      },
      "outputs": [],
      "source": [
        "def sigmoid(x):\n",
        "    ### your solution\n",
        "\n",
        "    sx = (1 / (1 + np.exp(-x)))\n",
        "\n",
        "    return sx\n",
        "\n",
        "\n",
        "def sigmoid_derivative(x):\n",
        "    return sigmoid(x) * (1 - sigmoid(x))"
      ]
    },
    {
      "cell_type": "markdown",
      "metadata": {
        "id": "ya3iCmDB1sWw"
      },
      "source": [
        "5) Multi-Layer Perceptron"
      ]
    },
    {
      "cell_type": "code",
      "execution_count": null,
      "metadata": {
        "ExecuteTime": {
          "end_time": "2024-03-07T14:22:31.206346600Z",
          "start_time": "2024-03-07T14:22:31.195156Z"
        },
        "id": "oQRnPYjN10Ko"
      },
      "outputs": [],
      "source": [
        "class MLP:\n",
        "    def __init__(self, input_size, hidden_size, output_size, learning_rate=0.01):\n",
        "        self.input_size = input_size\n",
        "        self.hidden_size = hidden_size\n",
        "        self.output_size = output_size\n",
        "        self.learning_rate = learning_rate\n",
        "\n",
        "        # initialize weights randomly\n",
        "        self.weights1 = np.random.randn(self.input_size, self.hidden_size)\n",
        "        self.weights2 = np.random.randn(self.hidden_size, self.output_size)\n",
        "\n",
        "        # initialize biases to 0\n",
        "        self.bias1 = np.zeros((1, self.hidden_size))\n",
        "        self.bias2 = np.zeros((1, self.output_size))\n",
        "\n",
        "    def fit(self, X, y, epochs=1000):\n",
        "        print(\"\\n --- training start ---\\n\")\n",
        "\n",
        "        log_err_temp = []\n",
        "        log_acc_temp = []\n",
        "\n",
        "        for epoch in range(epochs):\n",
        "            # feedforward\n",
        "            layer1 = X.dot(self.weights1) + self.bias1\n",
        "            activation1 = sigmoid(layer1)\n",
        "            layer2 = activation1.dot(self.weights2) + self.bias2\n",
        "            activation2 = sigmoid(layer2)\n",
        "\n",
        "            # backpropagation\n",
        "            error = activation2 - y\n",
        "            d_weights2 = activation1.T.dot(error * sigmoid_derivative(layer2))\n",
        "            d_bias2 = np.sum(error * sigmoid_derivative(layer2), axis=0, keepdims=True)\n",
        "            error_hidden = error.dot(self.weights2.T) * sigmoid_derivative(layer1)\n",
        "            d_weights1 = X.T.dot(error_hidden)\n",
        "            d_bias1 = np.sum(error_hidden, axis=0, keepdims=True)\n",
        "\n",
        "            #log loss und acc\n",
        "            acc_temp = np.mean((activation2 > 0.5).astype(int) == y)\n",
        "            error_logloss = log_loss(y, activation2)\n",
        "\n",
        "            log_acc_temp.append(acc_temp)\n",
        "            log_err_temp.append(error_logloss)\n",
        "\n",
        "\n",
        "            # update weights and biases\n",
        "            self.weights2 -= self.learning_rate * d_weights2\n",
        "            self.bias2 -= self.learning_rate * d_bias2\n",
        "            self.weights1 -= self.learning_rate * d_weights1\n",
        "            self.bias1 -= self.learning_rate * d_bias1\n",
        "\n",
        "            if epoch % 10 == 0:\n",
        "              print(f\"epoch {epoch}/{epochs}: Accuracy: {np.mean((activation2 > 0.5).astype(int) == y)}\")\n",
        "\n",
        "\n",
        "        print(f\"\\n --- final accuracy: {np.mean((activation2 > 0.5).astype(int) == y)} --- \\n\")\n",
        "        print(\" --- training stop ---\\n\")\n",
        "\n",
        "        return log_err_temp, log_acc_temp\n",
        "\n",
        "\n",
        "    def predict(self, X):\n",
        "        layer1 = X.dot(self.weights1) + self.bias1\n",
        "        activation1 = sigmoid(layer1)\n",
        "        layer2 = activation1.dot(self.weights2) + self.bias2\n",
        "        activation2 = sigmoid(layer2)\n",
        "        return (activation2 > 0.5).astype(int)\n",
        "\n",
        "\n",
        "\n",
        "\n"
      ]
    },
    {
      "cell_type": "markdown",
      "metadata": {
        "id": "JrVoFFa42L_Q"
      },
      "source": [
        "6) Hyperparameter definition"
      ]
    },
    {
      "cell_type": "code",
      "execution_count": null,
      "metadata": {
        "ExecuteTime": {
          "end_time": "2024-03-07T14:22:32.122991900Z",
          "start_time": "2024-03-07T14:22:31.198861300Z"
        },
        "id": "1cvqp5s32OUC"
      },
      "outputs": [],
      "source": [
        "input_size = 4\n",
        "hidden_size = 5\n",
        "output_size = 3\n",
        "\n",
        "iris_mpl = MLP(input_size, hidden_size, output_size)\n",
        "\n",
        "epoche = 1000\n",
        "err_epoch, acc_epoch = iris_mpl.fit(x_train, y_train, epoche)\n",
        "\n"
      ]
    },
    {
      "cell_type": "markdown",
      "metadata": {
        "id": "3l9vpUZLa4K_"
      },
      "source": [
        "7) Results"
      ]
    },
    {
      "cell_type": "code",
      "execution_count": null,
      "metadata": {
        "ExecuteTime": {
          "end_time": "2024-03-07T14:22:32.131804100Z",
          "start_time": "2024-03-07T14:22:32.123886300Z"
        },
        "id": "Js-jORsBKBis"
      },
      "outputs": [],
      "source": []
    },
    {
      "cell_type": "markdown",
      "metadata": {
        "id": "-JU8201qeHdO"
      },
      "source": [
        "8) Plots"
      ]
    },
    {
      "cell_type": "markdown",
      "metadata": {
        "id": "ISR-eicIj-Nl"
      },
      "source": [
        "Erstelle einen Subplot, wo einmal die \"predictions\" und die \"true_labels\" in einem gemeinsamen Scatter Plot dargestellt werden. Am zweiten Plot soll die \"accuracy\" und das \"loss\" während dem Training dargestellt werden."
      ]
    },
    {
      "cell_type": "code",
      "execution_count": null,
      "metadata": {
        "ExecuteTime": {
          "end_time": "2024-03-07T14:22:32.143091500Z",
          "start_time": "2024-03-07T14:22:32.131308Z"
        },
        "id": "NU5-3BKwTNq-"
      },
      "outputs": [],
      "source": [
        "# evaluate the accuracy of the MLP\n",
        "accuracy = np.mean(y_pred == y)\n",
        "print(f\"Accuracy: {accuracy:.2f}\")\n",
        "\n",
        "#plot the prediction function\n",
        "\n",
        "### your solution\n",
        "\n",
        "\n",
        "\n",
        "###"
      ]
    }
  ],
  "metadata": {
    "colab": {
      "provenance": [],
      "include_colab_link": true
    },
    "kernelspec": {
      "display_name": "Python 3 (ipykernel)",
      "language": "python",
      "name": "python3"
    },
    "language_info": {
      "codemirror_mode": {
        "name": "ipython",
        "version": 3
      },
      "file_extension": ".py",
      "mimetype": "text/x-python",
      "name": "python",
      "nbconvert_exporter": "python",
      "pygments_lexer": "ipython3",
      "version": "3.11.7"
    }
  },
  "nbformat": 4,
  "nbformat_minor": 0
}